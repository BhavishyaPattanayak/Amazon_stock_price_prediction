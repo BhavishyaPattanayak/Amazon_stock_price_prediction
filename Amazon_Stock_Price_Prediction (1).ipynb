{
  "nbformat": 4,
  "nbformat_minor": 0,
  "metadata": {
    "colab": {
      "provenance": []
    },
    "kernelspec": {
      "name": "python3",
      "display_name": "Python 3"
    },
    "language_info": {
      "name": "python"
    }
  },
  "cells": [
    {
      "cell_type": "code",
      "source": [
        "import tensorflow as tf\n",
        "import pandas as pd\n",
        "import numpy as np\n",
        "import matplotlib.pyplot as plt"
      ],
      "metadata": {
        "id": "bmRLkY_lQEeE"
      },
      "execution_count": 301,
      "outputs": []
    },
    {
      "cell_type": "code",
      "source": [
        "df = pd.read_csv('AMZN.csv')\n",
        "df"
      ],
      "metadata": {
        "colab": {
          "base_uri": "https://localhost:8080/",
          "height": 423
        },
        "id": "Nr8qXo-aCqXc",
        "outputId": "b171731c-1c52-4b2d-f5c5-0ff2e6df074b"
      },
      "execution_count": 302,
      "outputs": [
        {
          "output_type": "execute_result",
          "data": {
            "text/plain": [
              "            Date         Open         High          Low        Close  \\\n",
              "0     1997-05-15     2.437500     2.500000     1.927083     1.958333   \n",
              "1     1997-05-16     1.968750     1.979167     1.708333     1.729167   \n",
              "2     1997-05-19     1.760417     1.770833     1.625000     1.708333   \n",
              "3     1997-05-20     1.729167     1.750000     1.635417     1.635417   \n",
              "4     1997-05-21     1.635417     1.645833     1.375000     1.427083   \n",
              "...          ...          ...          ...          ...          ...   \n",
              "6252  2022-03-18  3136.260010  3231.879883  3120.219971  3225.010010   \n",
              "6253  2022-03-21  3222.419922  3261.679932  3191.060059  3229.830078   \n",
              "6254  2022-03-22  3236.110107  3323.340088  3233.979980  3297.780029   \n",
              "6255  2022-03-23  3274.100098  3327.399902  3253.739990  3268.159912   \n",
              "6256  2022-03-24  3274.989990  3282.370117  3201.000000  3272.989990   \n",
              "\n",
              "        Adj Close    Volume  \n",
              "0        1.958333  72156000  \n",
              "1        1.729167  14700000  \n",
              "2        1.708333   6106800  \n",
              "3        1.635417   5467200  \n",
              "4        1.427083  18853200  \n",
              "...           ...       ...  \n",
              "6252  3225.010010   5141300  \n",
              "6253  3229.830078   3326900  \n",
              "6254  3297.780029   3204300  \n",
              "6255  3268.159912   2790600  \n",
              "6256  3272.989990   2834900  \n",
              "\n",
              "[6257 rows x 7 columns]"
            ],
            "text/html": [
              "\n",
              "  <div id=\"df-018d785d-bc9f-4501-90bc-345e65a6973b\" class=\"colab-df-container\">\n",
              "    <div>\n",
              "<style scoped>\n",
              "    .dataframe tbody tr th:only-of-type {\n",
              "        vertical-align: middle;\n",
              "    }\n",
              "\n",
              "    .dataframe tbody tr th {\n",
              "        vertical-align: top;\n",
              "    }\n",
              "\n",
              "    .dataframe thead th {\n",
              "        text-align: right;\n",
              "    }\n",
              "</style>\n",
              "<table border=\"1\" class=\"dataframe\">\n",
              "  <thead>\n",
              "    <tr style=\"text-align: right;\">\n",
              "      <th></th>\n",
              "      <th>Date</th>\n",
              "      <th>Open</th>\n",
              "      <th>High</th>\n",
              "      <th>Low</th>\n",
              "      <th>Close</th>\n",
              "      <th>Adj Close</th>\n",
              "      <th>Volume</th>\n",
              "    </tr>\n",
              "  </thead>\n",
              "  <tbody>\n",
              "    <tr>\n",
              "      <th>0</th>\n",
              "      <td>1997-05-15</td>\n",
              "      <td>2.437500</td>\n",
              "      <td>2.500000</td>\n",
              "      <td>1.927083</td>\n",
              "      <td>1.958333</td>\n",
              "      <td>1.958333</td>\n",
              "      <td>72156000</td>\n",
              "    </tr>\n",
              "    <tr>\n",
              "      <th>1</th>\n",
              "      <td>1997-05-16</td>\n",
              "      <td>1.968750</td>\n",
              "      <td>1.979167</td>\n",
              "      <td>1.708333</td>\n",
              "      <td>1.729167</td>\n",
              "      <td>1.729167</td>\n",
              "      <td>14700000</td>\n",
              "    </tr>\n",
              "    <tr>\n",
              "      <th>2</th>\n",
              "      <td>1997-05-19</td>\n",
              "      <td>1.760417</td>\n",
              "      <td>1.770833</td>\n",
              "      <td>1.625000</td>\n",
              "      <td>1.708333</td>\n",
              "      <td>1.708333</td>\n",
              "      <td>6106800</td>\n",
              "    </tr>\n",
              "    <tr>\n",
              "      <th>3</th>\n",
              "      <td>1997-05-20</td>\n",
              "      <td>1.729167</td>\n",
              "      <td>1.750000</td>\n",
              "      <td>1.635417</td>\n",
              "      <td>1.635417</td>\n",
              "      <td>1.635417</td>\n",
              "      <td>5467200</td>\n",
              "    </tr>\n",
              "    <tr>\n",
              "      <th>4</th>\n",
              "      <td>1997-05-21</td>\n",
              "      <td>1.635417</td>\n",
              "      <td>1.645833</td>\n",
              "      <td>1.375000</td>\n",
              "      <td>1.427083</td>\n",
              "      <td>1.427083</td>\n",
              "      <td>18853200</td>\n",
              "    </tr>\n",
              "    <tr>\n",
              "      <th>...</th>\n",
              "      <td>...</td>\n",
              "      <td>...</td>\n",
              "      <td>...</td>\n",
              "      <td>...</td>\n",
              "      <td>...</td>\n",
              "      <td>...</td>\n",
              "      <td>...</td>\n",
              "    </tr>\n",
              "    <tr>\n",
              "      <th>6252</th>\n",
              "      <td>2022-03-18</td>\n",
              "      <td>3136.260010</td>\n",
              "      <td>3231.879883</td>\n",
              "      <td>3120.219971</td>\n",
              "      <td>3225.010010</td>\n",
              "      <td>3225.010010</td>\n",
              "      <td>5141300</td>\n",
              "    </tr>\n",
              "    <tr>\n",
              "      <th>6253</th>\n",
              "      <td>2022-03-21</td>\n",
              "      <td>3222.419922</td>\n",
              "      <td>3261.679932</td>\n",
              "      <td>3191.060059</td>\n",
              "      <td>3229.830078</td>\n",
              "      <td>3229.830078</td>\n",
              "      <td>3326900</td>\n",
              "    </tr>\n",
              "    <tr>\n",
              "      <th>6254</th>\n",
              "      <td>2022-03-22</td>\n",
              "      <td>3236.110107</td>\n",
              "      <td>3323.340088</td>\n",
              "      <td>3233.979980</td>\n",
              "      <td>3297.780029</td>\n",
              "      <td>3297.780029</td>\n",
              "      <td>3204300</td>\n",
              "    </tr>\n",
              "    <tr>\n",
              "      <th>6255</th>\n",
              "      <td>2022-03-23</td>\n",
              "      <td>3274.100098</td>\n",
              "      <td>3327.399902</td>\n",
              "      <td>3253.739990</td>\n",
              "      <td>3268.159912</td>\n",
              "      <td>3268.159912</td>\n",
              "      <td>2790600</td>\n",
              "    </tr>\n",
              "    <tr>\n",
              "      <th>6256</th>\n",
              "      <td>2022-03-24</td>\n",
              "      <td>3274.989990</td>\n",
              "      <td>3282.370117</td>\n",
              "      <td>3201.000000</td>\n",
              "      <td>3272.989990</td>\n",
              "      <td>3272.989990</td>\n",
              "      <td>2834900</td>\n",
              "    </tr>\n",
              "  </tbody>\n",
              "</table>\n",
              "<p>6257 rows × 7 columns</p>\n",
              "</div>\n",
              "    <div class=\"colab-df-buttons\">\n",
              "\n",
              "  <div class=\"colab-df-container\">\n",
              "    <button class=\"colab-df-convert\" onclick=\"convertToInteractive('df-018d785d-bc9f-4501-90bc-345e65a6973b')\"\n",
              "            title=\"Convert this dataframe to an interactive table.\"\n",
              "            style=\"display:none;\">\n",
              "\n",
              "  <svg xmlns=\"http://www.w3.org/2000/svg\" height=\"24px\" viewBox=\"0 -960 960 960\">\n",
              "    <path d=\"M120-120v-720h720v720H120Zm60-500h600v-160H180v160Zm220 220h160v-160H400v160Zm0 220h160v-160H400v160ZM180-400h160v-160H180v160Zm440 0h160v-160H620v160ZM180-180h160v-160H180v160Zm440 0h160v-160H620v160Z\"/>\n",
              "  </svg>\n",
              "    </button>\n",
              "\n",
              "  <style>\n",
              "    .colab-df-container {\n",
              "      display:flex;\n",
              "      gap: 12px;\n",
              "    }\n",
              "\n",
              "    .colab-df-convert {\n",
              "      background-color: #E8F0FE;\n",
              "      border: none;\n",
              "      border-radius: 50%;\n",
              "      cursor: pointer;\n",
              "      display: none;\n",
              "      fill: #1967D2;\n",
              "      height: 32px;\n",
              "      padding: 0 0 0 0;\n",
              "      width: 32px;\n",
              "    }\n",
              "\n",
              "    .colab-df-convert:hover {\n",
              "      background-color: #E2EBFA;\n",
              "      box-shadow: 0px 1px 2px rgba(60, 64, 67, 0.3), 0px 1px 3px 1px rgba(60, 64, 67, 0.15);\n",
              "      fill: #174EA6;\n",
              "    }\n",
              "\n",
              "    .colab-df-buttons div {\n",
              "      margin-bottom: 4px;\n",
              "    }\n",
              "\n",
              "    [theme=dark] .colab-df-convert {\n",
              "      background-color: #3B4455;\n",
              "      fill: #D2E3FC;\n",
              "    }\n",
              "\n",
              "    [theme=dark] .colab-df-convert:hover {\n",
              "      background-color: #434B5C;\n",
              "      box-shadow: 0px 1px 3px 1px rgba(0, 0, 0, 0.15);\n",
              "      filter: drop-shadow(0px 1px 2px rgba(0, 0, 0, 0.3));\n",
              "      fill: #FFFFFF;\n",
              "    }\n",
              "  </style>\n",
              "\n",
              "    <script>\n",
              "      const buttonEl =\n",
              "        document.querySelector('#df-018d785d-bc9f-4501-90bc-345e65a6973b button.colab-df-convert');\n",
              "      buttonEl.style.display =\n",
              "        google.colab.kernel.accessAllowed ? 'block' : 'none';\n",
              "\n",
              "      async function convertToInteractive(key) {\n",
              "        const element = document.querySelector('#df-018d785d-bc9f-4501-90bc-345e65a6973b');\n",
              "        const dataTable =\n",
              "          await google.colab.kernel.invokeFunction('convertToInteractive',\n",
              "                                                    [key], {});\n",
              "        if (!dataTable) return;\n",
              "\n",
              "        const docLinkHtml = 'Like what you see? Visit the ' +\n",
              "          '<a target=\"_blank\" href=https://colab.research.google.com/notebooks/data_table.ipynb>data table notebook</a>'\n",
              "          + ' to learn more about interactive tables.';\n",
              "        element.innerHTML = '';\n",
              "        dataTable['output_type'] = 'display_data';\n",
              "        await google.colab.output.renderOutput(dataTable, element);\n",
              "        const docLink = document.createElement('div');\n",
              "        docLink.innerHTML = docLinkHtml;\n",
              "        element.appendChild(docLink);\n",
              "      }\n",
              "    </script>\n",
              "  </div>\n",
              "\n",
              "\n",
              "<div id=\"df-190fdef6-ad35-47ac-98de-9a8197dacede\">\n",
              "  <button class=\"colab-df-quickchart\" onclick=\"quickchart('df-190fdef6-ad35-47ac-98de-9a8197dacede')\"\n",
              "            title=\"Suggest charts.\"\n",
              "            style=\"display:none;\">\n",
              "\n",
              "<svg xmlns=\"http://www.w3.org/2000/svg\" height=\"24px\"viewBox=\"0 0 24 24\"\n",
              "     width=\"24px\">\n",
              "    <g>\n",
              "        <path d=\"M19 3H5c-1.1 0-2 .9-2 2v14c0 1.1.9 2 2 2h14c1.1 0 2-.9 2-2V5c0-1.1-.9-2-2-2zM9 17H7v-7h2v7zm4 0h-2V7h2v10zm4 0h-2v-4h2v4z\"/>\n",
              "    </g>\n",
              "</svg>\n",
              "  </button>\n",
              "\n",
              "<style>\n",
              "  .colab-df-quickchart {\n",
              "    background-color: #E8F0FE;\n",
              "    border: none;\n",
              "    border-radius: 50%;\n",
              "    cursor: pointer;\n",
              "    display: none;\n",
              "    fill: #1967D2;\n",
              "    height: 32px;\n",
              "    padding: 0 0 0 0;\n",
              "    width: 32px;\n",
              "  }\n",
              "\n",
              "  .colab-df-quickchart:hover {\n",
              "    background-color: #E2EBFA;\n",
              "    box-shadow: 0px 1px 2px rgba(60, 64, 67, 0.3), 0px 1px 3px 1px rgba(60, 64, 67, 0.15);\n",
              "    fill: #174EA6;\n",
              "  }\n",
              "\n",
              "  [theme=dark] .colab-df-quickchart {\n",
              "    background-color: #3B4455;\n",
              "    fill: #D2E3FC;\n",
              "  }\n",
              "\n",
              "  [theme=dark] .colab-df-quickchart:hover {\n",
              "    background-color: #434B5C;\n",
              "    box-shadow: 0px 1px 3px 1px rgba(0, 0, 0, 0.15);\n",
              "    filter: drop-shadow(0px 1px 2px rgba(0, 0, 0, 0.3));\n",
              "    fill: #FFFFFF;\n",
              "  }\n",
              "</style>\n",
              "\n",
              "  <script>\n",
              "    async function quickchart(key) {\n",
              "      const charts = await google.colab.kernel.invokeFunction(\n",
              "          'suggestCharts', [key], {});\n",
              "    }\n",
              "    (() => {\n",
              "      let quickchartButtonEl =\n",
              "        document.querySelector('#df-190fdef6-ad35-47ac-98de-9a8197dacede button');\n",
              "      quickchartButtonEl.style.display =\n",
              "        google.colab.kernel.accessAllowed ? 'block' : 'none';\n",
              "    })();\n",
              "  </script>\n",
              "</div>\n",
              "    </div>\n",
              "  </div>\n"
            ]
          },
          "metadata": {},
          "execution_count": 302
        }
      ]
    },
    {
      "cell_type": "code",
      "source": [
        "x = df.iloc[:,1:2].values\n",
        "x"
      ],
      "metadata": {
        "colab": {
          "base_uri": "https://localhost:8080/"
        },
        "id": "IQvYdrurC8_e",
        "outputId": "be33f9cb-0422-491b-b4b9-59105167e8aa"
      },
      "execution_count": 303,
      "outputs": [
        {
          "output_type": "execute_result",
          "data": {
            "text/plain": [
              "array([[2.43750000e+00],\n",
              "       [1.96875000e+00],\n",
              "       [1.76041700e+00],\n",
              "       ...,\n",
              "       [3.23611011e+03],\n",
              "       [3.27410010e+03],\n",
              "       [3.27498999e+03]])"
            ]
          },
          "metadata": {},
          "execution_count": 303
        }
      ]
    },
    {
      "cell_type": "code",
      "source": [
        "from sklearn.model_selection import train_test_split\n",
        "x_train, x_test = train_test_split(x, test_size=0.33, random_state=42)"
      ],
      "metadata": {
        "id": "xAZcNBnR3Ham"
      },
      "execution_count": 304,
      "outputs": []
    },
    {
      "cell_type": "code",
      "source": [
        "x_train"
      ],
      "metadata": {
        "colab": {
          "base_uri": "https://localhost:8080/"
        },
        "id": "sF4-scy7Udbb",
        "outputId": "a102d7fe-72ba-4899-f017-523f5995a653"
      },
      "execution_count": 305,
      "outputs": [
        {
          "output_type": "execute_result",
          "data": {
            "text/plain": [
              "array([[  49.125   ],\n",
              "       [  34.150002],\n",
              "       [  87.949997],\n",
              "       ...,\n",
              "       [1485.      ],\n",
              "       [1795.      ],\n",
              "       [  27.9375  ]])"
            ]
          },
          "metadata": {},
          "execution_count": 305
        }
      ]
    },
    {
      "cell_type": "code",
      "source": [
        "x_test"
      ],
      "metadata": {
        "colab": {
          "base_uri": "https://localhost:8080/"
        },
        "id": "kz5UjhayUf1l",
        "outputId": "8e4c3e4f-ff54-460c-b6f2-310c199e8775"
      },
      "execution_count": 306,
      "outputs": [
        {
          "output_type": "execute_result",
          "data": {
            "text/plain": [
              "array([[ 41.990002],\n",
              "       [527.75    ],\n",
              "       [ 44.049999],\n",
              "       ...,\n",
              "       [ 16.35    ],\n",
              "       [ 49.150002],\n",
              "       [304.      ]])"
            ]
          },
          "metadata": {},
          "execution_count": 306
        }
      ]
    },
    {
      "cell_type": "code",
      "source": [
        "from sklearn.preprocessing import MinMaxScaler\n",
        "mx = MinMaxScaler(feature_range = (0,1))\n",
        "x_train = mx.fit_transform(x_train)\n",
        "x_train"
      ],
      "metadata": {
        "colab": {
          "base_uri": "https://localhost:8080/"
        },
        "id": "LLIa34saYGHR",
        "outputId": "d9251e3c-2bc6-4bfa-fd9f-57796af4ff69"
      },
      "execution_count": 307,
      "outputs": [
        {
          "output_type": "execute_result",
          "data": {
            "text/plain": [
              "array([[0.01275018],\n",
              "       [0.00874895],\n",
              "       [0.023124  ],\n",
              "       ...,\n",
              "       [0.39640791],\n",
              "       [0.47923816],\n",
              "       [0.007089  ]])"
            ]
          },
          "metadata": {},
          "execution_count": 307
        }
      ]
    },
    {
      "cell_type": "code",
      "source": [
        "shift = 100\n",
        "yt = x_train[shift:]\n",
        "xt = x_train[:-shift]\n",
        "xt"
      ],
      "metadata": {
        "colab": {
          "base_uri": "https://localhost:8080/"
        },
        "id": "H_Iu46R7F8S3",
        "outputId": "62125dd0-8286-4a35-c3c0-9cfa1ad4f730"
      },
      "execution_count": 308,
      "outputs": [
        {
          "output_type": "execute_result",
          "data": {
            "text/plain": [
              "array([[0.01275018],\n",
              "       [0.00874895],\n",
              "       [0.023124  ],\n",
              "       ...,\n",
              "       [0.41083908],\n",
              "       [0.45194425],\n",
              "       [0.02049214]])"
            ]
          },
          "metadata": {},
          "execution_count": 308
        }
      ]
    },
    {
      "cell_type": "code",
      "source": [
        "yt"
      ],
      "metadata": {
        "colab": {
          "base_uri": "https://localhost:8080/"
        },
        "id": "kgFMHmWvRFQi",
        "outputId": "0f15d6ef-3d98-4853-8ec0-16ecf6a1461e"
      },
      "execution_count": 309,
      "outputs": [
        {
          "output_type": "execute_result",
          "data": {
            "text/plain": [
              "array([[0.08739494],\n",
              "       [0.01752628],\n",
              "       [0.00150018],\n",
              "       ...,\n",
              "       [0.39640791],\n",
              "       [0.47923816],\n",
              "       [0.007089  ]])"
            ]
          },
          "metadata": {},
          "execution_count": 309
        }
      ]
    },
    {
      "cell_type": "code",
      "source": [
        "from tensorflow.keras.models import Sequential\n",
        "from tensorflow.keras.layers import LSTM, Dense, Dropout"
      ],
      "metadata": {
        "id": "-Bk-422Nrf9C"
      },
      "execution_count": 310,
      "outputs": []
    },
    {
      "cell_type": "code",
      "source": [
        "seq = Sequential()\n",
        "seq.add(LSTM(units = 50, return_sequences=True, input_shape = (xt.shape[1],1)))\n",
        "seq.add(Dropout(0.02))\n",
        "seq.add(LSTM(units = 50, return_sequences=True))\n",
        "seq.add(Dropout(0.02))\n",
        "seq.add(LSTM(units = 50, return_sequences=True))\n",
        "seq.add(Dropout(0.02))\n",
        "seq.add(LSTM(units = 50, return_sequences=True))\n",
        "seq.add(Dropout(0.02))\n",
        "seq.add(Dense(units = 1))"
      ],
      "metadata": {
        "id": "EtzVL55TScQz"
      },
      "execution_count": 311,
      "outputs": []
    },
    {
      "cell_type": "code",
      "source": [
        "seq.compile(optimizer = 'adam', loss = 'mean_squared_error')\n",
        "seq.fit(xt, yt,epochs = 5)"
      ],
      "metadata": {
        "colab": {
          "base_uri": "https://localhost:8080/"
        },
        "id": "vqEjsLx52GPW",
        "outputId": "a9ea873b-afec-464a-cc52-3ba23c748fd4"
      },
      "execution_count": 312,
      "outputs": [
        {
          "output_type": "stream",
          "name": "stdout",
          "text": [
            "Epoch 1/5\n",
            "128/128 [==============================] - 11s 12ms/step - loss: 0.0628\n",
            "Epoch 2/5\n",
            "128/128 [==============================] - 1s 8ms/step - loss: 0.0602\n",
            "Epoch 3/5\n",
            "128/128 [==============================] - 1s 8ms/step - loss: 0.0604\n",
            "Epoch 4/5\n",
            "128/128 [==============================] - 1s 8ms/step - loss: 0.0602\n",
            "Epoch 5/5\n",
            "128/128 [==============================] - 1s 8ms/step - loss: 0.0602\n"
          ]
        },
        {
          "output_type": "execute_result",
          "data": {
            "text/plain": [
              "<keras.callbacks.History at 0x7b5468fbd420>"
            ]
          },
          "metadata": {},
          "execution_count": 312
        }
      ]
    },
    {
      "cell_type": "code",
      "source": [
        "xt"
      ],
      "metadata": {
        "colab": {
          "base_uri": "https://localhost:8080/"
        },
        "id": "6rzKrcvzXreE",
        "outputId": "fd6b91e4-a7aa-4334-fcdc-acc2bb32dec5"
      },
      "execution_count": 313,
      "outputs": [
        {
          "output_type": "execute_result",
          "data": {
            "text/plain": [
              "array([[0.01275018],\n",
              "       [0.00874895],\n",
              "       [0.023124  ],\n",
              "       ...,\n",
              "       [0.41083908],\n",
              "       [0.45194425],\n",
              "       [0.02049214]])"
            ]
          },
          "metadata": {},
          "execution_count": 313
        }
      ]
    },
    {
      "cell_type": "code",
      "source": [
        "yt"
      ],
      "metadata": {
        "colab": {
          "base_uri": "https://localhost:8080/"
        },
        "id": "QARXRmuDX2zf",
        "outputId": "ffcdb633-79aa-4a36-f751-a30ae29e98aa"
      },
      "execution_count": 314,
      "outputs": [
        {
          "output_type": "execute_result",
          "data": {
            "text/plain": [
              "array([[0.08739494],\n",
              "       [0.01752628],\n",
              "       [0.00150018],\n",
              "       ...,\n",
              "       [0.39640791],\n",
              "       [0.47923816],\n",
              "       [0.007089  ]])"
            ]
          },
          "metadata": {},
          "execution_count": 314
        }
      ]
    },
    {
      "cell_type": "code",
      "source": [
        "x_test = mx.fit_transform(x_test)\n",
        "x_test"
      ],
      "metadata": {
        "colab": {
          "base_uri": "https://localhost:8080/"
        },
        "id": "dGlH0jwjYxKx",
        "outputId": "8d92a6e0-7144-4220-d0a8-c53d2a2ddf73"
      },
      "execution_count": 315,
      "outputs": [
        {
          "output_type": "execute_result",
          "data": {
            "text/plain": [
              "array([[0.01090358],\n",
              "       [0.1414455 ],\n",
              "       [0.01145717],\n",
              "       ...,\n",
              "       [0.00401315],\n",
              "       [0.01282774],\n",
              "       [0.08131549]])"
            ]
          },
          "metadata": {},
          "execution_count": 315
        }
      ]
    },
    {
      "cell_type": "code",
      "source": [
        "shift = 100\n",
        "yT = x_test[shift:]\n",
        "xT = x_test[:-shift]\n",
        "xT"
      ],
      "metadata": {
        "colab": {
          "base_uri": "https://localhost:8080/"
        },
        "id": "VWzikhSlRtmg",
        "outputId": "408dda94-6b85-4f83-975e-167faa1a0e11"
      },
      "execution_count": 316,
      "outputs": [
        {
          "output_type": "execute_result",
          "data": {
            "text/plain": [
              "array([[0.01090358],\n",
              "       [0.1414455 ],\n",
              "       [0.01145717],\n",
              "       ...,\n",
              "       [0.05100996],\n",
              "       [0.02457828],\n",
              "       [0.21711123]])"
            ]
          },
          "metadata": {},
          "execution_count": 316
        }
      ]
    },
    {
      "cell_type": "code",
      "source": [
        "yT"
      ],
      "metadata": {
        "colab": {
          "base_uri": "https://localhost:8080/"
        },
        "id": "xgn8dneHSJ6T",
        "outputId": "4bb4f411-ad77-4624-94ee-0e5a9e7f7fbb"
      },
      "execution_count": 317,
      "outputs": [
        {
          "output_type": "execute_result",
          "data": {
            "text/plain": [
              "array([[0.14999404],\n",
              "       [0.01906782],\n",
              "       [0.27029975],\n",
              "       ...,\n",
              "       [0.00401315],\n",
              "       [0.01282774],\n",
              "       [0.08131549]])"
            ]
          },
          "metadata": {},
          "execution_count": 317
        }
      ]
    },
    {
      "cell_type": "code",
      "source": [
        "xt = mx.inverse_transform(xt)\n",
        "xt"
      ],
      "metadata": {
        "colab": {
          "base_uri": "https://localhost:8080/"
        },
        "id": "T_-ScJpCaoLt",
        "outputId": "b80df0dd-f663-4d61-e105-f6222cd37c0f"
      },
      "execution_count": 318,
      "outputs": [
        {
          "output_type": "execute_result",
          "data": {
            "text/plain": [
              "array([[  48.86141054],\n",
              "       [  33.97240067],\n",
              "       [  87.46347001],\n",
              "       ...,\n",
              "       [1530.19133214],\n",
              "       [1683.14793164],\n",
              "       [  77.67003082]])"
            ]
          },
          "metadata": {},
          "execution_count": 318
        }
      ]
    },
    {
      "cell_type": "code",
      "source": [
        "real = seq.predict(yt)\n",
        "real = real.reshape(-1, 1)\n",
        "real = mx.inverse_transform(real)\n",
        "real"
      ],
      "metadata": {
        "colab": {
          "base_uri": "https://localhost:8080/"
        },
        "id": "3GCzb_9id8KN",
        "outputId": "1f268be5-4aa7-45a2-a9c5-0d371446802f"
      },
      "execution_count": 319,
      "outputs": [
        {
          "output_type": "stream",
          "name": "stdout",
          "text": [
            "128/128 [==============================] - 6s 5ms/step\n"
          ]
        },
        {
          "output_type": "execute_result",
          "data": {
            "text/plain": [
              "array([[583.4237 ],\n",
              "       [585.49585],\n",
              "       [585.9693 ],\n",
              "       ...,\n",
              "       [574.1241 ],\n",
              "       [571.5988 ],\n",
              "       [585.80426]], dtype=float32)"
            ]
          },
          "metadata": {},
          "execution_count": 319
        }
      ]
    },
    {
      "cell_type": "code",
      "source": [
        "pred = seq.predict(xT)\n",
        "pred = pred.reshape(-1, 1)\n",
        "pred = mx.inverse_transform(pred)\n",
        "pred"
      ],
      "metadata": {
        "colab": {
          "base_uri": "https://localhost:8080/"
        },
        "id": "V8-IGMfnf0Gq",
        "outputId": "d51412f4-6e91-41a2-c2aa-fc5a496b2c49"
      },
      "execution_count": 320,
      "outputs": [
        {
          "output_type": "stream",
          "name": "stdout",
          "text": [
            "62/62 [==============================] - 0s 4ms/step\n"
          ]
        },
        {
          "output_type": "execute_result",
          "data": {
            "text/plain": [
              "array([[585.69165],\n",
              "       [581.8125 ],\n",
              "       [585.67523],\n",
              "       ...,\n",
              "       [584.50433],\n",
              "       [585.28723],\n",
              "       [579.5453 ]], dtype=float32)"
            ]
          },
          "metadata": {},
          "execution_count": 320
        }
      ]
    },
    {
      "cell_type": "code",
      "source": [
        "pred.shape[0]"
      ],
      "metadata": {
        "colab": {
          "base_uri": "https://localhost:8080/"
        },
        "id": "He1SMcs50lNt",
        "outputId": "d305fd48-2d2f-4f49-835c-432988798065"
      },
      "execution_count": 321,
      "outputs": [
        {
          "output_type": "execute_result",
          "data": {
            "text/plain": [
              "1965"
            ]
          },
          "metadata": {},
          "execution_count": 321
        }
      ]
    },
    {
      "cell_type": "code",
      "source": [
        "x_test"
      ],
      "metadata": {
        "colab": {
          "base_uri": "https://localhost:8080/"
        },
        "id": "-Ct8YnaFWQZu",
        "outputId": "52e0d6e2-04f5-4a69-8605-5aa8e5513434"
      },
      "execution_count": 322,
      "outputs": [
        {
          "output_type": "execute_result",
          "data": {
            "text/plain": [
              "array([[0.01090358],\n",
              "       [0.1414455 ],\n",
              "       [0.01145717],\n",
              "       ...,\n",
              "       [0.00401315],\n",
              "       [0.01282774],\n",
              "       [0.08131549]])"
            ]
          },
          "metadata": {},
          "execution_count": 322
        }
      ]
    },
    {
      "cell_type": "code",
      "source": [
        "x_test.shape[0]"
      ],
      "metadata": {
        "colab": {
          "base_uri": "https://localhost:8080/"
        },
        "id": "WYPsZBmsS_pX",
        "outputId": "c14f6e36-d255-4599-e6a9-b892048b7a9c"
      },
      "execution_count": 323,
      "outputs": [
        {
          "output_type": "execute_result",
          "data": {
            "text/plain": [
              "2065"
            ]
          },
          "metadata": {},
          "execution_count": 323
        }
      ]
    },
    {
      "cell_type": "code",
      "source": [
        "from sklearn.metrics import mean_squared_error, mean_absolute_error\n",
        "mse_pred = mean_squared_error(real[:1000], pred[:1000])\n",
        "rmse_pred = np.sqrt(mse_pred)\n",
        "mae_pred = mean_absolute_error(real[:1000], pred[:1000])\n",
        "print(\"Mean Squared Error (MSE):\", mse_pred)\n",
        "print(\"Root Mean Squared Error (RMSE):\", rmse_pred)\n",
        "print(\"Mean Absolute Error (MAE):\", mae_pred)"
      ],
      "metadata": {
        "colab": {
          "base_uri": "https://localhost:8080/"
        },
        "id": "lE_a4CAdge3-",
        "outputId": "72c5afcb-6973-433a-df47-6cbb79201552"
      },
      "execution_count": 324,
      "outputs": [
        {
          "output_type": "stream",
          "name": "stdout",
          "text": [
            "Mean Squared Error (MSE): 97.1991\n",
            "Root Mean Squared Error (RMSE): 9.85896\n",
            "Mean Absolute Error (MAE): 6.036307\n"
          ]
        }
      ]
    },
    {
      "cell_type": "code",
      "source": [
        "plt.plot(pred[:200] , color='red', label = 'Predicted')\n",
        "plt.plot(real[:200] , color='blue', label = 'Actual')\n",
        "plt.xlabel('Time')\n",
        "plt.ylabel(\"Stock Price\")\n",
        "plt.title('Amazon Stock Prediction')\n",
        "plt.legend()\n",
        "fig = plt.gcf()\n",
        "fig.set_size_inches(20, 5)"
      ],
      "metadata": {
        "colab": {
          "base_uri": "https://localhost:8080/",
          "height": 426
        },
        "id": "G6kXwZF6orc8",
        "outputId": "58fce583-2528-47c7-f8f9-07b212cea305"
      },
      "execution_count": 325,
      "outputs": [
        {
          "output_type": "display_data",
          "data": {
            "text/plain": [
              "<Figure size 2000x500 with 1 Axes>"
            ],
            "image/png": "[encoded data removed]"
          },
          "metadata": {}
        }
      ]
    }
  ]
}